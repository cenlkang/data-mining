{
 "cells": [
  {
   "cell_type": "code",
   "execution_count": 1,
   "metadata": {},
   "outputs": [],
   "source": [
    "# user based recommendations\n",
    "import pprint\n",
    "from math import sqrt"
   ]
  },
  {
   "cell_type": "code",
   "execution_count": null,
   "metadata": {},
   "outputs": [],
   "source": [
    " "
   ]
  },
  {
   "cell_type": "code",
   "execution_count": 2,
   "metadata": {},
   "outputs": [],
   "source": [
    "# load database and construct the  nested dictionary\n",
    "def loadMovies():\n",
    "\n",
    "  #Get movie titles\n",
    "  movies={}\n",
    "  for line in open(\"/Users/cen/DataMining-Demo/movies.dat\"):\n",
    "    (id, title) = line.split('|')[0:2]\n",
    "    movies[id] = title\n",
    "\n",
    "  #load data\n",
    "  prefs={}\n",
    "  #pp = pprint.PrettyPrinter(indent=2)\n",
    "  #print (\"List of movies in load are:\")\n",
    "\n",
    "  for line in open(\"/Users/cen/DataMining-Demo/test.dat\"):\n",
    "    (usr, movieid, rating, ts) = line.split('\\t')\n",
    "    prefs.setdefault(usr, {})\n",
    "    #pp.pprint(prefs)\n",
    "    prefs[usr][movies[movieid]]=float(rating)\n",
    "  return (movies, prefs)"
   ]
  },
  {
   "cell_type": "code",
   "execution_count": 3,
   "metadata": {},
   "outputs": [
    {
     "name": "stdout",
     "output_type": "stream",
     "text": [
      "List of movies are:\n",
      "{ '1': 'Toy Story (1995)',\n",
      "  '2': 'GoldenEye (1995)',\n",
      "  '3': 'Four Rooms (1995)',\n",
      "  '4': 'Get Shorty (1995)',\n",
      "  '5': 'Copycat (1995)'}\n",
      "The preference list is:\n",
      "{ '1': {'Get Shorty (1995)': 3.0, 'GoldenEye (1995)': 3.0},\n",
      "  '2': { 'Four Rooms (1995)': 2.0,\n",
      "         'Get Shorty (1995)': 4.0,\n",
      "         'GoldenEye (1995)': 3.0,\n",
      "         'Toy Story (1995)': 2.0},\n",
      "  '3': { 'Four Rooms (1995)': 2.0,\n",
      "         'Get Shorty (1995)': 5.0,\n",
      "         'GoldenEye (1995)': 4.0},\n",
      "  '4': { 'Copycat (1995)': 4.0,\n",
      "         'Four Rooms (1995)': 4.0,\n",
      "         'Get Shorty (1995)': 3.0},\n",
      "  '5': { 'Copycat (1995)': 5.0,\n",
      "         'Get Shorty (1995)': 5.0,\n",
      "         'GoldenEye (1995)': 3.0,\n",
      "         'Toy Story (1995)': 3.0}}\n"
     ]
    }
   ],
   "source": [
    "  movies, prefs = loadMovies()\n",
    "  pp = pprint.PrettyPrinter(indent=2)\n",
    "  print (\"List of movies are:\")\n",
    "  pp.pprint(movies)\n",
    "\n",
    "  print (\"The preference list is:\")\n",
    "  pp.pprint(prefs)"
   ]
  },
  {
   "cell_type": "code",
   "execution_count": 4,
   "metadata": {},
   "outputs": [],
   "source": [
    "# compute the Euclidean distance between two person's preferences\n",
    "def sim_distance(prefs, person1, person2):\n",
    "\n",
    "  #Get the list of shared items\n",
    "  si = {}\n",
    "  for it in prefs[person1]:\n",
    "    if it in prefs[person2]:\n",
    "      si[it]=1\n",
    "  \n",
    "  #if they have no ratings in common, return 0\n",
    "  if (len(si) == 0): return 0\n",
    "\n",
    "  # Add up the squares of all the differences\n",
    "  euclidean_distance = sqrt(sum([pow(prefs[person1][it] - prefs[person2][it], 2)\n",
    "                    for it in si]))\n",
    "\n",
    "  similarity = 1/(1+euclidean_distance)\n",
    "  return similarity"
   ]
  },
  {
   "cell_type": "code",
   "execution_count": 5,
   "metadata": {},
   "outputs": [],
   "source": [
    "# compute the pearson correlation coefficient\n",
    "def sim_pearson(prefs, person1, person2):\n",
    "\n",
    "  #Get the list of shared items\n",
    "  si = {}\n",
    "  for it in prefs[person1]:\n",
    "    if it in prefs[person2]:\n",
    "      si[it]=1\n",
    "\n",
    "  # Find the number of elements\n",
    "  n = len(si)\n",
    "\n",
    "  # if they have no ratings in common, return 0\n",
    "  if n==0:  return 0\n",
    "\n",
    "  # sum\n",
    "  sum1 = sum([prefs[person1][it] for it in si])\n",
    "  sum2 = sum([prefs[person2][it] for it in si])\n",
    "\n",
    "  # sum of the squares\n",
    "  sum1Square = sum([pow(prefs[person1][it], 2) for it in si])\n",
    "  sum2Square = sum([pow(prefs[person2][it], 2) for it in si])\n",
    "\n",
    "  # sum up the products\n",
    "  pSum = sum([prefs[person1][it]*prefs[person2][it] for it in si])\n",
    "\n",
    "  # compute the correlation coefficient\n",
    "  num = pSum - (sum1*sum2/n)\n",
    "  denom = sqrt((sum1Square - pow(sum1, 2)/n)*(sum2Square - pow(sum2, 2)/n))\n",
    "\n",
    "  if denom == 0: return 0\n",
    "\n",
    "  pearson_correlation = num/denom\n",
    "\n",
    "  return pearson_correlation"
   ]
  },
  {
   "cell_type": "code",
   "execution_count": 6,
   "metadata": {},
   "outputs": [],
   "source": [
    "# return the top N most similar person/items\n",
    "def topMatches(prefs, person, n=5, similarity=sim_pearson):\n",
    "  scores=[(similarity(prefs, person, other), other)\n",
    "             for other in prefs if other != person]\n",
    "\n",
    "  # sort the list so the highest scores appear at the top\n",
    "  scores.sort()\n",
    "  scores.reverse()\n",
    "\n",
    "  return scores[0:n]"
   ]
  },
  {
   "cell_type": "code",
   "execution_count": 7,
   "metadata": {},
   "outputs": [],
   "source": [
    "# Get recommendations for a person by using a weighted average\n",
    "# of every other user's ranking\n",
    "def getRecommendations(prefs, person, similarity=sim_pearson):\n",
    "\n",
    "  totals={}\n",
    "  simSums = {}\n",
    "\n",
    "  for other in prefs:\n",
    "    # don't compare one to himself\n",
    "    if other == person:\n",
    "      continue\n",
    "\n",
    "    sim = similarity(prefs, person, other)\n",
    "\n",
    "    #ignore scores of zero or lower\n",
    "    if sim < 0:\n",
    "      continue\n",
    "\n",
    "    for item in prefs[other]:\n",
    "      #only score movies I have not seen before\n",
    "      if item not in prefs[person] or prefs[person][item]==0:\n",
    "            \n",
    "        totals.setdefault(item, 0)\n",
    "        #weighted similarity score = simiarity * score\n",
    "        totals[item] += prefs[other][item]*sim\n",
    "\n",
    "        simSums.setdefault(item, 0)\n",
    "        #sum of similarities\n",
    "        simSums[item] += sim\n",
    "\n",
    "  ## !! indentation\n",
    "  # Create the normalized list\n",
    "  rankings=[(total/(simSums[item]), item)\n",
    "              for item, total in totals.items()]\n",
    "\n",
    "  # Retrn the sorted list\n",
    "  rankings.sort()\n",
    "  rankings.reverse()\n",
    "\n",
    "  return rankings\n"
   ]
  },
  {
   "cell_type": "code",
   "execution_count": 8,
   "metadata": {},
   "outputs": [
    {
     "name": "stdout",
     "output_type": "stream",
     "text": [
      "[(4.25, 'Copycat (1995)'), (3.1055728090000843, 'Four Rooms (1995)'), (2.4000000000000004, 'Toy Story (1995)')]\n"
     ]
    }
   ],
   "source": [
    "  recommendations = getRecommendations(prefs, '1', sim_distance)\n",
    "  print (recommendations)"
   ]
  }
 ],
 "metadata": {
  "kernelspec": {
   "display_name": "Python 3",
   "language": "python",
   "name": "python3"
  },
  "language_info": {
   "codemirror_mode": {
    "name": "ipython",
    "version": 3
   },
   "file_extension": ".py",
   "mimetype": "text/x-python",
   "name": "python",
   "nbconvert_exporter": "python",
   "pygments_lexer": "ipython3",
   "version": "3.7.6"
  }
 },
 "nbformat": 4,
 "nbformat_minor": 4
}
